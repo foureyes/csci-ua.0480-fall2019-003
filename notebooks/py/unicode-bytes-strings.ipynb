{
 "cells": [
  {
   "cell_type": "markdown",
   "metadata": {},
   "source": [
    "# Unicode, Encoding, Bytes and Strings\n",
    "\n",
    "## Representation of Data\n",
    "\n",
    "Use bits! ... 0's and 1's\n",
    "\n",
    "* straightforward for numbers... use numbers, perhaps it may be a set number of bits\n",
    "* representing text.... mapping of numbers to characters 65... A... in some encodings\n",
    "* unicode is just the mapping`\n",
    "* WAT about encoding???\n",
    "    * utf-8\n",
    "    * utf-16\n",
    "    * utf-32\n",
    "\n",
    "## Encodings\n",
    "\n",
    "### utf-8\n",
    "\n",
    "Variable length encoding. Even though only 8 bits / 1 byte, can represent other unicode characters by adding additional bytes (higher bytes specify whether or not other bytes should be combined).\n",
    "\n",
    "* sometimes encoding of file is not known\n",
    "* ...if you have a series of bytes, you can decode with an scheme of your choice (utf-8, latin-1, etc.?)\n",
    "\n",
    "### others\n",
    "\n",
    "If using mostly ASCII characters, then utf-8 is a great choice. However, if characters require more than one byte, utf-16, might be a better option. utf-32 might take up too much space for every character to be practical.\n",
    "\n",
    "### why even? \n",
    "\n",
    "Ok. Sooo… how is this practical at all? Why might knowing about encodings be useful? ...Sometimes you source a file, but you don’t know what encoding it is\n",
    "\n",
    "* If you have a series of bytes, you can decode with an scheme of your choice (utf-8, latin-1, etc.?)\n",
    "* Automatic detection of encoding is tricky! (no standard for embedding encoding a file, usually encoding not even included!)\n",
    "* Editors/viewers will use different strategies, but no guarantee guess will be right! 😮\n",
    "* btw, some tools: file and enca to guess at encoding... sublime, atom, etc. to load in different encoding\n",
    "\n",
    "### example\n",
    "\n",
    "Download this file... try to figure out what encoding it is:\n",
    "\n",
    "[Mystery Encoding](https://www.gutenberg.org/files/4909/old/olavg10.txt) 🕵\n",
    "\n",
    "* open it in a text editor\n",
    "* use `file` to figure out what it is\n",
    "* if you can, try enca\n",
    "* reopen, but change encoding"
   ]
  },
  {
   "cell_type": "markdown",
   "metadata": {},
   "source": [
    "## Strings vs Bytes\n",
    "\n",
    "### Strings\n",
    "From the docs: \"The default encoding for Python source code is UTF-8, so you can simply include a Unicode character in a string literal\"... see below!"
   ]
  },
  {
   "cell_type": "code",
   "execution_count": null,
   "metadata": {},
   "outputs": [],
   "source": [
    "s = \"this is clearly a string\"\n",
    "s2 = \"also a string ☃\"\n",
    "print(s2)"
   ]
  },
  {
   "cell_type": "code",
   "execution_count": 2,
   "metadata": {},
   "outputs": [],
   "source": [
    "s3 = \"not sure 🙃\"\n",
    "print(s3)"
   ]
  },
  {
   "cell_type": "markdown",
   "metadata": {},
   "source": [
    "### bytes Objects\n",
    "\n",
    "From Python docs: \"Bytes objects are immutable sequences of single bytes.\" ...\n",
    "\n",
    "* sequence of ints 0 - 255\n",
    "* can be created by using string of ascii characters"
   ]
  },
  {
   "cell_type": "code",
   "execution_count": 3,
   "metadata": {},
   "outputs": [],
   "source": [
    "b = b\"hello\""
   ]
  },
  {
   "cell_type": "code",
   "execution_count": 4,
   "metadata": {},
   "outputs": [
    {
     "data": {
      "text/plain": [
       "104"
      ]
     },
     "execution_count": 4,
     "metadata": {},
     "output_type": "execute_result"
    }
   ],
   "source": [
    "b[0]"
   ]
  },
  {
   "cell_type": "code",
   "execution_count": 5,
   "metadata": {},
   "outputs": [
    {
     "data": {
      "text/plain": [
       "104"
      ]
     },
     "execution_count": 5,
     "metadata": {},
     "output_type": "execute_result"
    }
   ],
   "source": [
    "ord('h')"
   ]
  },
  {
   "cell_type": "code",
   "execution_count": 6,
   "metadata": {},
   "outputs": [
    {
     "name": "stdout",
     "output_type": "stream",
     "text": [
      "<class 'TypeError'> can't concat str to bytes\n"
     ]
    }
   ],
   "source": [
    "try:\n",
    "    b + '!!!!!'\n",
    "except TypeError as e:\n",
    "    print(type(e), e)"
   ]
  },
  {
   "cell_type": "code",
   "execution_count": 7,
   "metadata": {},
   "outputs": [
    {
     "data": {
      "text/plain": [
       "bytes"
      ]
     },
     "execution_count": 7,
     "metadata": {},
     "output_type": "execute_result"
    }
   ],
   "source": [
    "type(b)"
   ]
  },
  {
   "cell_type": "markdown",
   "metadata": {},
   "source": [
    "### Use `decode` Method to Conver to a String\n",
    "\n",
    "* interpret a series of bytes as utf-8"
   ]
  },
  {
   "cell_type": "code",
   "execution_count": 8,
   "metadata": {},
   "outputs": [
    {
     "data": {
      "text/plain": [
       "'hello'"
      ]
     },
     "execution_count": 8,
     "metadata": {},
     "output_type": "execute_result"
    }
   ],
   "source": [
    "b.decode('utf-8')"
   ]
  },
  {
   "cell_type": "markdown",
   "metadata": {},
   "source": [
    "### Now Let's Try utf-16"
   ]
  },
  {
   "cell_type": "code",
   "execution_count": 9,
   "metadata": {},
   "outputs": [
    {
     "data": {
      "text/plain": [
       "'hello!'"
      ]
     },
     "execution_count": 9,
     "metadata": {},
     "output_type": "execute_result"
    }
   ],
   "source": [
    "b = b'hello!'\n",
    "b.decode('utf-8')\n",
    "# ... works as you expect!"
   ]
  },
  {
   "cell_type": "code",
   "execution_count": 10,
   "metadata": {},
   "outputs": [
    {
     "data": {
      "text/plain": [
       "'敨汬Ⅿ'"
      ]
     },
     "execution_count": 10,
     "metadata": {},
     "output_type": "execute_result"
    }
   ],
   "source": [
    "b.decode('utf-16')\n",
    "# ... how about same bytes as utf-16"
   ]
  },
  {
   "cell_type": "markdown",
   "metadata": {},
   "source": [
    "# String Formatting\n",
    "\n",
    "## Using the format function"
   ]
  },
  {
   "cell_type": "code",
   "execution_count": 11,
   "metadata": {},
   "outputs": [
    {
     "data": {
      "text/plain": [
       "'Hi, my name is joe, and I have 20 apple pies!'"
      ]
     },
     "execution_count": 11,
     "metadata": {},
     "output_type": "execute_result"
    }
   ],
   "source": [
    "name = 'joe'\n",
    "num = 20\n",
    "food = 'apple pies'\n",
    "\"Hi, my name is {}, and I have {} {}!\".format(name, num, food)"
   ]
  },
  {
   "cell_type": "markdown",
   "metadata": {},
   "source": [
    "### Using `format` with Positions"
   ]
  },
  {
   "cell_type": "code",
   "execution_count": 12,
   "metadata": {},
   "outputs": [
    {
     "data": {
      "text/plain": [
       "'Hi, my name is joe, and I have 20 apple pies!'"
      ]
     },
     "execution_count": 12,
     "metadata": {},
     "output_type": "execute_result"
    }
   ],
   "source": [
    "\"Hi, my name is {2}, and I have {0} {1}!\".format(num, food, name)"
   ]
  },
  {
   "cell_type": "markdown",
   "metadata": {},
   "source": [
    "### Using `format` with Positions and Format Specifier"
   ]
  },
  {
   "cell_type": "code",
   "execution_count": 13,
   "metadata": {},
   "outputs": [
    {
     "data": {
      "text/plain": [
       "'Hi, my name is joe, and I have 20.00 apple pies!'"
      ]
     },
     "execution_count": 13,
     "metadata": {},
     "output_type": "execute_result"
    }
   ],
   "source": [
    "\"Hi, my name is {2:s}, and I have {0:.2f} {1:s}!\".format(num, food, name)"
   ]
  },
  {
   "cell_type": "markdown",
   "metadata": {},
   "source": [
    "### Format String Literals"
   ]
  },
  {
   "cell_type": "code",
   "execution_count": 14,
   "metadata": {},
   "outputs": [
    {
     "data": {
      "text/plain": [
       "'Hi, my name is joe, and I have 20 apple pies!'"
      ]
     },
     "execution_count": 14,
     "metadata": {},
     "output_type": "execute_result"
    }
   ],
   "source": [
    "f\"Hi, my name is {name}, and I have {num} {food}!\""
   ]
  },
  {
   "cell_type": "code",
   "execution_count": 15,
   "metadata": {},
   "outputs": [
    {
     "data": {
      "text/plain": [
       "'Hi, my name is joe, and I have 20.00 apple pies!'"
      ]
     },
     "execution_count": 15,
     "metadata": {},
     "output_type": "execute_result"
    }
   ],
   "source": [
    "f\"Hi, my name is {name}, and I have {num:.2f} {food}!\""
   ]
  },
  {
   "cell_type": "markdown",
   "metadata": {},
   "source": [
    "### Using the % Operator"
   ]
  },
  {
   "cell_type": "code",
   "execution_count": 16,
   "metadata": {},
   "outputs": [
    {
     "name": "stdout",
     "output_type": "stream",
     "text": [
      "20 apple pies\n"
     ]
    }
   ],
   "source": [
    "result = \"%s %s\" % (num, food)\n",
    "print(result)"
   ]
  }
 ],
 "metadata": {
  "kernelspec": {
   "display_name": "Python 3",
   "language": "python",
   "name": "python3"
  },
  "language_info": {
   "codemirror_mode": {
    "name": "ipython",
    "version": 3
   },
   "file_extension": ".py",
   "mimetype": "text/x-python",
   "name": "python",
   "nbconvert_exporter": "python",
   "pygments_lexer": "ipython3",
   "version": "3.7.3"
  }
 },
 "nbformat": 4,
 "nbformat_minor": 4
}
