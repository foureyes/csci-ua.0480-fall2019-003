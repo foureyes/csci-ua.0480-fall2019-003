{
 "cells": [
  {
   "cell_type": "code",
   "execution_count": 12,
   "metadata": {},
   "outputs": [],
   "source": [
    "class Student:\n",
    "    def __init__(self, netid, first, last):\n",
    "        self.netid = netid\n",
    "        self.first = first\n",
    "        self.last = last\n",
    "    \n",
    "    def __str__(self):\n",
    "        # string representation (human readable)\n",
    "        return f\"{self.first} {self.last}\"\n",
    "    \n",
    "    def __repr__(self):\n",
    "        # the actual object (for debugging purposes)\n",
    "        return self.__str__()\n",
    "    \n",
    "    def __eq__(self, other):\n",
    "        return self.netid == other.netid\n",
    "    \"\"\"\n",
    "    __mult__\n",
    "    __add__\n",
    "    \"\"\""
   ]
  },
  {
   "cell_type": "code",
   "execution_count": 13,
   "metadata": {},
   "outputs": [],
   "source": [
    "s = Student('jjv222', 'joe', 'v')\n",
    "clone = Student('jjv222', 'joe', 'clone')"
   ]
  },
  {
   "cell_type": "code",
   "execution_count": 14,
   "metadata": {},
   "outputs": [
    {
     "name": "stdout",
     "output_type": "stream",
     "text": [
      "True\n"
     ]
    }
   ],
   "source": [
    "print(s == clone)"
   ]
  },
  {
   "cell_type": "code",
   "execution_count": null,
   "metadata": {},
   "outputs": [],
   "source": []
  }
 ],
 "metadata": {
  "kernelspec": {
   "display_name": "Python 3",
   "language": "python",
   "name": "python3"
  },
  "language_info": {
   "codemirror_mode": {
    "name": "ipython",
    "version": 3
   },
   "file_extension": ".py",
   "mimetype": "text/x-python",
   "name": "python",
   "nbconvert_exporter": "python",
   "pygments_lexer": "ipython3",
   "version": "3.6.5"
  }
 },
 "nbformat": 4,
 "nbformat_minor": 2
}
