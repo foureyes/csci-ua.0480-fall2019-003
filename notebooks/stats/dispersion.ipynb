{
 "cells": [
  {
   "cell_type": "markdown",
   "metadata": {},
   "source": [
    "# Frequency, Central Tendency, and Dispersion\n",
    "\n",
    "## Distribution\n",
    "\n",
    "If you have a single set of data (a single variable, amirite?), one way to describe it may be to count the number of times each value in it appers -- essentially its distribution. \n",
    "\n",
    "Frequency - number of times a value appears in the datast\n",
    "\n",
    "Can be done with `dict` or `Counter`"
   ]
  },
  {
   "cell_type": "code",
   "execution_count": 41,
   "metadata": {},
   "outputs": [
    {
     "data": {
      "text/plain": [
       "array([3, 3, 4, 3, 4, 1, 5, 4, 1, 5, 5, 4, 2, 1, 6, 4, 5, 3, 1, 6, 4, 1,\n",
       "       1, 3, 2, 6, 6, 6, 2, 4, 5, 2, 5, 4, 6, 4, 4, 6, 4, 4, 1, 3, 3, 1,\n",
       "       3, 2, 5, 6, 4, 5, 4, 4, 3, 2, 5, 4, 3, 1, 1, 4, 2, 3, 4, 6, 3, 1,\n",
       "       5, 5, 4, 5, 2, 5, 3, 3, 1, 5, 6, 5, 3, 4, 6, 2, 3, 2, 3, 3, 1, 2,\n",
       "       2, 5, 2, 1, 6, 4, 5, 2, 2, 1, 2, 1, 4, 4, 1, 2, 4, 6, 3, 1, 5, 6,\n",
       "       3, 1, 2, 3, 1, 5, 2, 6, 1, 1, 4, 1, 3, 2, 3, 6, 5, 4, 1, 6, 6, 6,\n",
       "       4, 3, 3, 6, 3, 3, 2, 6, 5, 2, 5, 1, 6, 1, 6, 6, 5, 6, 3, 5, 1, 4,\n",
       "       5, 1, 1, 5, 4, 6, 2, 4, 5, 5, 4, 4, 3, 4, 3, 1, 2, 3, 5, 5, 4, 2,\n",
       "       4, 5, 2, 3, 5, 5, 1, 1, 5, 5, 6, 1, 2, 1, 4, 3, 2, 1, 3, 3, 6, 2,\n",
       "       5, 6, 3, 5, 3, 5, 6, 5, 6, 2, 5, 5, 4, 3, 1, 6, 1, 1, 3, 6, 5, 1,\n",
       "       4, 6, 5, 5, 6, 2, 3, 2, 6, 5, 5, 1, 5, 1, 6, 5, 4, 2, 3, 6, 3, 4,\n",
       "       4, 2, 5, 2, 1, 6, 3, 3, 4, 1, 5, 1, 3, 1, 1, 5, 3, 4, 4, 2, 6, 5,\n",
       "       2, 5, 2, 2, 5, 6, 6, 2, 4, 3, 2, 5, 1, 3, 5, 4, 3, 5, 3, 5, 3, 5,\n",
       "       3, 4, 4, 4, 2, 4, 5, 2, 3, 3, 2, 5, 5, 5, 2, 4, 5, 2, 5, 1, 4, 4,\n",
       "       3, 2, 4, 4, 5, 3, 4, 3, 2, 6, 1, 3, 2, 1, 5, 4, 3, 6, 5, 2, 4, 4,\n",
       "       2, 2, 6, 5, 3, 5, 6, 5, 3, 2, 5, 6, 4, 4, 6, 5, 3, 4, 3, 2, 2, 3,\n",
       "       1, 2, 2, 5, 4, 3, 5, 1, 1, 3, 5, 5, 2, 1, 6, 3, 6, 5, 5, 3, 2, 5,\n",
       "       3, 5, 1, 6, 6, 5, 2, 3, 2, 1, 4, 3, 5, 3, 2, 1, 1, 6, 1, 2, 5, 2,\n",
       "       2, 4, 4, 2, 5, 6, 6, 2, 3, 3, 5, 3, 2, 4, 1, 6, 3, 3, 5, 4, 2, 1,\n",
       "       3, 4, 3, 1, 2, 5, 6, 6, 4, 1, 4, 2, 4, 6, 1, 1, 6, 5, 4, 1, 2, 4,\n",
       "       1, 5, 6, 3, 1, 4, 3, 3, 5, 3, 4, 4, 6, 3, 5, 5, 2, 6, 6, 5, 3, 6,\n",
       "       3, 6, 5, 5, 3, 5, 2, 3, 1, 6, 1, 6, 3, 2, 5, 3, 4, 1, 1, 3, 1, 3,\n",
       "       4, 5, 5, 3, 4, 4, 6, 3, 2, 6, 6, 3, 3, 5, 1, 2])"
      ]
     },
     "execution_count": 41,
     "metadata": {},
     "output_type": "execute_result"
    }
   ],
   "source": [
    "import numpy as np\n",
    "numbers = np.random.randint(1, 7, 500)\n",
    "numbers"
   ]
  },
  {
   "cell_type": "code",
   "execution_count": 42,
   "metadata": {},
   "outputs": [
    {
     "data": {
      "text/plain": [
       "{3: 96, 4: 81, 1: 74, 5: 101, 2: 77, 6: 71}"
      ]
     },
     "execution_count": 42,
     "metadata": {},
     "output_type": "execute_result"
    }
   ],
   "source": [
    "counts = {}\n",
    "for n in numbers:\n",
    "   counts[n] = counts.get(n, 0)  + 1\n",
    "counts"
   ]
  },
  {
   "cell_type": "code",
   "execution_count": 43,
   "metadata": {},
   "outputs": [
    {
     "data": {
      "text/plain": [
       "Counter({3: 96, 4: 81, 1: 74, 5: 101, 2: 77, 6: 71})"
      ]
     },
     "execution_count": 43,
     "metadata": {},
     "output_type": "execute_result"
    }
   ],
   "source": [
    "from collections import Counter\n",
    "c = Counter(numbers)\n",
    "c"
   ]
  },
  {
   "cell_type": "code",
   "execution_count": 44,
   "metadata": {},
   "outputs": [
    {
     "data": {
      "text/plain": [
       "[(5, 101), (3, 96), (4, 81), (2, 77), (1, 74), (6, 71)]"
      ]
     },
     "execution_count": 44,
     "metadata": {},
     "output_type": "execute_result"
    }
   ],
   "source": [
    "c.most_common()"
   ]
  },
  {
   "cell_type": "code",
   "execution_count": 45,
   "metadata": {},
   "outputs": [
    {
     "data": {
      "text/plain": [
       "[(5, 101), (3, 96)]"
      ]
     },
     "execution_count": 45,
     "metadata": {},
     "output_type": "execute_result"
    }
   ],
   "source": [
    "c.most_common(2)"
   ]
  },
  {
   "cell_type": "markdown",
   "metadata": {},
   "source": [
    "## Central Tendency"
   ]
  },
  {
   "cell_type": "code",
   "execution_count": 1,
   "metadata": {},
   "outputs": [],
   "source": [
    "mean = lambda data: sum(data) / len(data)"
   ]
  },
  {
   "cell_type": "code",
   "execution_count": 57,
   "metadata": {},
   "outputs": [],
   "source": [
    "def median(data):\n",
    "    d = sorted(data)\n",
    "    i = len(d) // 2\n",
    "    return d[i] if len(d) % 2 == 1 else mean(d[i - 1: i + 1])"
   ]
  },
  {
   "cell_type": "code",
   "execution_count": 58,
   "metadata": {},
   "outputs": [
    {
     "data": {
      "text/plain": [
       "4.0"
      ]
     },
     "execution_count": 58,
     "metadata": {},
     "output_type": "execute_result"
    }
   ],
   "source": [
    "median([2,3,5,6])"
   ]
  },
  {
   "cell_type": "markdown",
   "metadata": {},
   "source": [
    "mode shows clusters...\n",
    "spread: How much variability is there in the values?\n",
    "tails: How quickly do the probabilities drop off as we move away from the modes?\n",
    "outliers - values far from mode?Are there extreme values far from the modes?"
   ]
  },
  {
   "cell_type": "code",
   "execution_count": 59,
   "metadata": {},
   "outputs": [],
   "source": [
    "mode = lambda data: Counter(data).most_common(1)"
   ]
  },
  {
   "cell_type": "code",
   "execution_count": 60,
   "metadata": {},
   "outputs": [
    {
     "data": {
      "text/plain": [
       "[(5, 101)]"
      ]
     },
     "execution_count": 60,
     "metadata": {},
     "output_type": "execute_result"
    }
   ],
   "source": [
    "mode(numbers)"
   ]
  },
  {
   "cell_type": "code",
   "execution_count": 61,
   "metadata": {},
   "outputs": [
    {
     "data": {
      "text/plain": [
       "4.0"
      ]
     },
     "execution_count": 61,
     "metadata": {},
     "output_type": "execute_result"
    }
   ],
   "source": [
    "median(numbers)"
   ]
  },
  {
   "cell_type": "code",
   "execution_count": 62,
   "metadata": {},
   "outputs": [
    {
     "data": {
      "text/plain": [
       "3.542"
      ]
     },
     "execution_count": 62,
     "metadata": {},
     "output_type": "execute_result"
    }
   ],
   "source": [
    "mean(numbers)"
   ]
  },
  {
   "cell_type": "markdown",
   "metadata": {},
   "source": [
    "### Quantile\n",
    "\n",
    "Value under which some percent of data is less than..."
   ]
  },
  {
   "cell_type": "code",
   "execution_count": 63,
   "metadata": {},
   "outputs": [],
   "source": [
    "quantile = lambda p, data: sorted(data)[int(p * len(data))]"
   ]
  },
  {
   "cell_type": "code",
   "execution_count": 64,
   "metadata": {},
   "outputs": [],
   "source": [
    "numbers2 = [5, 6, 0, 2, 3]"
   ]
  },
  {
   "cell_type": "code",
   "execution_count": 65,
   "metadata": {},
   "outputs": [
    {
     "data": {
      "text/plain": [
       "3"
      ]
     },
     "execution_count": 65,
     "metadata": {},
     "output_type": "execute_result"
    }
   ],
   "source": [
    "median(numbers2)"
   ]
  },
  {
   "cell_type": "code",
   "execution_count": 68,
   "metadata": {},
   "outputs": [
    {
     "data": {
      "text/plain": [
       "5"
      ]
     },
     "execution_count": 68,
     "metadata": {},
     "output_type": "execute_result"
    }
   ],
   "source": [
    "quantile(0.60, numbers2)"
   ]
  },
  {
   "cell_type": "markdown",
   "metadata": {},
   "source": [
    "## Dispersion\n",
    "\n",
    "\n",
    "### range\n",
    "* range of values... max and min again\n",
    "* range is 0 if max and min are the same (no spread / data not dispersed... all points are the same!)\n",
    "* larger range, obvs means min and max are far apart\n",
    "\n",
    "... but that only describes max and min, what about all the other values?\n",
    "\n",
    "### population variance \n",
    "\n",
    "* variance - describes variability or spread of distribution\n",
    "* kind of like calculating difference from mean for all points, and getting the average of that\n",
    "* but! instead of just the difference, we square it\n",
    "* how to calculate variance\n",
    "  1. it's the average of the squared differences from the Mean\n",
    "  2. calculate mean\n",
    "  3. every data point... subtract the mean and square the result .\n",
    "  4. average of all differences (divide by number of data points)\n",
    "  \n"
   ]
  },
  {
   "cell_type": "code",
   "execution_count": 74,
   "metadata": {},
   "outputs": [],
   "source": [
    "# assuming population variance (most libs will allow you to change this)\n",
    "def variance(data):\n",
    "    # for every number, subtract the mean, sq the result\n",
    "    mu = mean(data)\n",
    "    # sum of sq differences\n",
    "    return sum((x - mu) ** 2 for x in data) / len(data)"
   ]
  },
  {
   "cell_type": "code",
   "execution_count": 75,
   "metadata": {},
   "outputs": [
    {
     "data": {
      "text/plain": [
       "21704.0"
      ]
     },
     "execution_count": 75,
     "metadata": {},
     "output_type": "execute_result"
    }
   ],
   "source": [
    "data = [600, 470, 170, 430, 300]\n",
    "variance(data)"
   ]
  },
  {
   "cell_type": "markdown",
   "metadata": {},
   "source": [
    "### population standard deviation  \n",
    "\n",
    "* to get back to original units (rather than squares), use standard deviation.\n",
    "    * calculate: square root of variance\n",
    "    * can help describe how far away a value is from _normal_\n"
   ]
  },
  {
   "cell_type": "code",
   "execution_count": 76,
   "metadata": {},
   "outputs": [],
   "source": [
    "def standard_deviation(data):\n",
    "    return variance(data) ** 0.5"
   ]
  },
  {
   "cell_type": "code",
   "execution_count": 77,
   "metadata": {},
   "outputs": [
    {
     "data": {
      "text/plain": [
       "147.32277488562318"
      ]
     },
     "execution_count": 77,
     "metadata": {},
     "output_type": "execute_result"
    }
   ],
   "source": [
    "standard_deviation(data)"
   ]
  },
  {
   "cell_type": "markdown",
   "metadata": {},
   "source": [
    "### variance and standard deviation\n",
    "* why square tho?\n",
    "  * why? mix of negative and positive numbers will \"cancel\" out (we want to compare distance; remove sign)\n",
    "  * magnifies extremes, tho (good or bad?)\n",
    "  * why not absolute value? yes, this is also a measure of dispersion\n",
    "  * http://www.leeds.ac.uk/educol/documents/00003759.htm\n",
    "  * https://stats.stackexchange.com/questions/118/why-square-the-difference-instead-of-taking-the-absolute-value-in-standard-devia\n",
    "  * historically, though std dev has been used - more consistent when calculating for repeated samples of population\n",
    "* population vs sample\n",
    "  * sample... n - 1... this is typically the case, unless you have all data points (we want to underestimate)\n",
    "    * using n for the sample ends up as an understimate (since mean is calculated from sample, rather than population... if sample clusters together, then variance is smol / understimate..\n",
    "    * how to make larger? divide by smaller number, n - 1\n",
    "  * use n instead\n",
    "\n",
    "### Interquartile Range / Midspread\n",
    "\n",
    "Variance and standard deviation sensitive to outliers \n",
    "\n",
    "Another measure of dispersion that is not as sensitive to outliers is interquartile range... (also nknown as middle 50%, midspread)\n",
    "\n",
    "* use quantile to calculate val at 0.75\n",
    "* use quantile to calculate val at 0.25\n"
   ]
  },
  {
   "cell_type": "code",
   "execution_count": 79,
   "metadata": {},
   "outputs": [],
   "source": [
    "def iqr(data):\n",
    "    return quantile(0.75, data) - quantile(0.25, data)"
   ]
  },
  {
   "cell_type": "code",
   "execution_count": 81,
   "metadata": {},
   "outputs": [],
   "source": [
    "rolls = np.random.randint(1, 6, 1000)"
   ]
  },
  {
   "cell_type": "code",
   "execution_count": 82,
   "metadata": {},
   "outputs": [
    {
     "data": {
      "text/plain": [
       "2.956"
      ]
     },
     "execution_count": 82,
     "metadata": {},
     "output_type": "execute_result"
    }
   ],
   "source": [
    "mean(rolls)"
   ]
  },
  {
   "cell_type": "code",
   "execution_count": 83,
   "metadata": {},
   "outputs": [
    {
     "data": {
      "text/plain": [
       "[(1, 221)]"
      ]
     },
     "execution_count": 83,
     "metadata": {},
     "output_type": "execute_result"
    }
   ],
   "source": [
    "mode(rolls)"
   ]
  },
  {
   "cell_type": "code",
   "execution_count": 84,
   "metadata": {},
   "outputs": [
    {
     "data": {
      "text/plain": [
       "2.0560639999999895"
      ]
     },
     "execution_count": 84,
     "metadata": {},
     "output_type": "execute_result"
    }
   ],
   "source": [
    "variance(rolls)"
   ]
  },
  {
   "cell_type": "code",
   "execution_count": 85,
   "metadata": {},
   "outputs": [
    {
     "data": {
      "text/plain": [
       "1.4338981832752244"
      ]
     },
     "execution_count": 85,
     "metadata": {},
     "output_type": "execute_result"
    }
   ],
   "source": [
    "standard_deviation(rolls)"
   ]
  },
  {
   "cell_type": "code",
   "execution_count": 86,
   "metadata": {},
   "outputs": [
    {
     "data": {
      "text/plain": [
       "2"
      ]
     },
     "execution_count": 86,
     "metadata": {},
     "output_type": "execute_result"
    }
   ],
   "source": [
    "irq(rolls)"
   ]
  },
  {
   "cell_type": "code",
   "execution_count": 87,
   "metadata": {},
   "outputs": [
    {
     "data": {
      "text/plain": [
       "3.0"
      ]
     },
     "execution_count": 87,
     "metadata": {},
     "output_type": "execute_result"
    }
   ],
   "source": [
    "median(rolls)"
   ]
  },
  {
   "cell_type": "code",
   "execution_count": 88,
   "metadata": {},
   "outputs": [],
   "source": [
    "import re\n",
    "import csv\n",
    "def extract(): \n",
    "    with open('../rollingsales_manhattan.csv') as f:\n",
    "        for row in csv.reader(f):\n",
    "            try:\n",
    "                #price = int(line_parts[-2].replace(',', '').replace('\"\"'))\n",
    "                price = int(re.sub(r\"\\\"|,\", '', row[-2]))\n",
    "            except ValueError:\n",
    "                continue\n",
    "            neighborhood = row[1]\n",
    "            address = row[8]\n",
    "            yield neighborhood, address, price"
   ]
  },
  {
   "cell_type": "code",
   "execution_count": 90,
   "metadata": {},
   "outputs": [],
   "source": [
    "data = list(extract())"
   ]
  },
  {
   "cell_type": "code",
   "execution_count": 93,
   "metadata": {},
   "outputs": [],
   "source": [
    "filtered_data = [row for row in data if row[-1] > 0]"
   ]
  },
  {
   "cell_type": "code",
   "execution_count": 95,
   "metadata": {},
   "outputs": [
    {
     "data": {
      "text/plain": [
       "13493"
      ]
     },
     "execution_count": 95,
     "metadata": {},
     "output_type": "execute_result"
    }
   ],
   "source": [
    "len(filtered_data)"
   ]
  },
  {
   "cell_type": "code",
   "execution_count": 100,
   "metadata": {},
   "outputs": [],
   "source": [
    "prices = [row[-1] for row in filtered_data]"
   ]
  },
  {
   "cell_type": "code",
   "execution_count": 101,
   "metadata": {},
   "outputs": [
    {
     "data": {
      "text/plain": [
       "13493"
      ]
     },
     "execution_count": 101,
     "metadata": {},
     "output_type": "execute_result"
    }
   ],
   "source": [
    "len(prices)"
   ]
  },
  {
   "cell_type": "code",
   "execution_count": 102,
   "metadata": {},
   "outputs": [
    {
     "data": {
      "text/plain": [
       "1"
      ]
     },
     "execution_count": 102,
     "metadata": {},
     "output_type": "execute_result"
    }
   ],
   "source": [
    "min(prices)"
   ]
  },
  {
   "cell_type": "code",
   "execution_count": 104,
   "metadata": {},
   "outputs": [],
   "source": [
    "c = Counter(prices)"
   ]
  },
  {
   "cell_type": "code",
   "execution_count": 108,
   "metadata": {},
   "outputs": [
    {
     "data": {
      "text/plain": [
       "4362191.819610168"
      ]
     },
     "execution_count": 108,
     "metadata": {},
     "output_type": "execute_result"
    }
   ],
   "source": [
    "mean(prices)"
   ]
  },
  {
   "cell_type": "code",
   "execution_count": 109,
   "metadata": {},
   "outputs": [
    {
     "data": {
      "text/plain": [
       "29333457.455288544"
      ]
     },
     "execution_count": 109,
     "metadata": {},
     "output_type": "execute_result"
    }
   ],
   "source": [
    "standard_deviation(prices)"
   ]
  },
  {
   "cell_type": "code",
   "execution_count": 110,
   "metadata": {},
   "outputs": [
    {
     "data": {
      "text/plain": [
       "1966328"
      ]
     },
     "execution_count": 110,
     "metadata": {},
     "output_type": "execute_result"
    }
   ],
   "source": [
    "iqr(prices)"
   ]
  },
  {
   "cell_type": "code",
   "execution_count": 111,
   "metadata": {},
   "outputs": [
    {
     "data": {
      "text/plain": [
       "1248000"
      ]
     },
     "execution_count": 111,
     "metadata": {},
     "output_type": "execute_result"
    }
   ],
   "source": [
    "median(prices)"
   ]
  },
  {
   "cell_type": "code",
   "execution_count": 112,
   "metadata": {},
   "outputs": [
    {
     "data": {
      "text/plain": [
       "2155000000"
      ]
     },
     "execution_count": 112,
     "metadata": {},
     "output_type": "execute_result"
    }
   ],
   "source": [
    "max(prices)"
   ]
  },
  {
   "cell_type": "code",
   "execution_count": null,
   "metadata": {},
   "outputs": [],
   "source": []
  }
 ],
 "metadata": {
  "kernelspec": {
   "display_name": "Python 3",
   "language": "python",
   "name": "python3"
  },
  "language_info": {
   "codemirror_mode": {
    "name": "ipython",
    "version": 3
   },
   "file_extension": ".py",
   "mimetype": "text/x-python",
   "name": "python",
   "nbconvert_exporter": "python",
   "pygments_lexer": "ipython3",
   "version": "3.6.5"
  }
 },
 "nbformat": 4,
 "nbformat_minor": 4
}
