{
 "cells": [
  {
   "cell_type": "markdown",
   "metadata": {},
   "source": [
    "# Files, Unicode, Bytes, Strings"
   ]
  },
  {
   "cell_type": "markdown",
   "metadata": {},
   "source": [
    "## Reading Files, File I/O\n",
    "\n",
    "### Use built-in function open\n",
    "\n",
    "`open` has 2 args:\n",
    "\n",
    "* `file_name` - `str` ... absolute or relative path to open\n",
    "* `mode` - `str` ... single chr: r, w, a\n",
    "    * `r`: file must exist, otherwise FileNotFoundError\n",
    "    * `w`: if exists, overwrite, if it doesn't, create\n",
    "    * `a`: append.... add to existing file\n",
    "\n",
    "returns: `file` object\n",
    "\n",
    "file object has following methods:\n",
    "* `close`... closes the file handle, no args\n",
    "* `read`... entire contents and returns as str\n",
    "* `readlines`... same ^^^, but returns as list\n",
    "* `readline`... one line at a time, location saved\n"
   ]
  },
  {
   "cell_type": "markdown",
   "metadata": {},
   "source": [
    "### Reading a file\n",
    "\n",
    "File object can be looped over using `for`:"
   ]
  },
  {
   "cell_type": "code",
   "execution_count": 34,
   "metadata": {},
   "outputs": [],
   "source": [
    "f = open('1342-0.txt', 'r')\n",
    "for line in f:\n",
    "    # commented out print to prevent entire file being printed out\n",
    "    # print(line)\n",
    "    pass\n",
    "f.close()"
   ]
  },
  {
   "cell_type": "markdown",
   "metadata": {},
   "source": [
    "You can actually `enumerate` a file object (in this instance, we're only printing out 6 lines):"
   ]
  },
  {
   "cell_type": "code",
   "execution_count": 35,
   "metadata": {},
   "outputs": [
    {
     "name": "stdout",
     "output_type": "stream",
     "text": [
      "﻿The Project Gutenberg EBook of Pride and Prejudice, by Jane Austen\n",
      "\n",
      "\n",
      "\n",
      "This eBook is for the use of anyone anywhere at no cost and with\n",
      "\n",
      "almost no restrictions whatsoever.  You may copy it, give it away or\n",
      "\n",
      "re-use it under the terms of the Project Gutenberg License included\n",
      "\n",
      "with this eBook or online at www.gutenberg.org\n",
      "\n",
      "\n",
      "\n"
     ]
    }
   ],
   "source": [
    "f = open('1342-0.txt', 'r')\n",
    "for i, line in enumerate(f):\n",
    "    print(line)\n",
    "    if i > 5:\n",
    "        break\n",
    "f.close()"
   ]
  },
  {
   "cell_type": "markdown",
   "metadata": {},
   "source": [
    "### Using `with` and Using `readlines`\n",
    "\n",
    "Now let's try using `with`... when the block exits, the file object is automatically cleaned up (`close` is called)\n",
    "\n",
    "Additionally, we'll use `readlines` to read the contents of the file as a `list`"
   ]
  },
  {
   "cell_type": "code",
   "execution_count": 36,
   "metadata": {},
   "outputs": [
    {
     "name": "stdout",
     "output_type": "stream",
     "text": [
      "﻿The Project Gutenberg EBook of Pride and Prejudice, by Jane Austen\n",
      "\n",
      "done\n"
     ]
    }
   ],
   "source": [
    "with open('1342-0.txt', 'r') as f:\n",
    "    lines = f.readlines()\n",
    "    print(lines[0])\n",
    "print('done')"
   ]
  },
  {
   "cell_type": "markdown",
   "metadata": {},
   "source": [
    "### Handling Exceptions\n",
    "\n",
    "Catch a FileNotFoundError to deal with a file that doesn't exist:"
   ]
  },
  {
   "cell_type": "code",
   "execution_count": 37,
   "metadata": {},
   "outputs": [
    {
     "name": "stdout",
     "output_type": "stream",
     "text": [
      "Could not find the file!\n"
     ]
    }
   ],
   "source": [
    "def read_stuff():\n",
    "    with open('dne.txt', 'r') as f:\n",
    "        lines = f.readlines()\n",
    "        print(lines[0])\n",
    "try:\n",
    "    read_stuff()\n",
    "except FileNotFoundError:\n",
    "    print('Could not find the file!')\n",
    "    \n"
   ]
  },
  {
   "cell_type": "markdown",
   "metadata": {},
   "source": [
    "## Representation of Data\n",
    "\n",
    "Use bits! ... 0's and 1's\n",
    "\n",
    "* straightforward for numbers... use numbers, perhaps it may be a set number of bits\n",
    "* representing text.... mapping of numbers to characters 65... A... in some encodings\n",
    "* unicode is just the mapping`\n",
    "* WAT about encoding???\n",
    "    * utf-8\n",
    "    * utf-16\n",
    "    * utf-32\n",
    "  \n",
    "### utf-8\n",
    "\n",
    "Variable length encoding. Even though only 8 bits / 1 byte, can represent other unicode characters by adding additional bytes (higher bytes specify whether or no other bytes should be combined).\n",
    "\n",
    "* sometimes encoding of file is not known\n",
    "* ...if you have a series of bytes, you can decode with an scheme of your choice (utf-8, latin-1, etc.?)\n",
    "\n",
    "If using mostly ASCII characters, then utf-8 is a great choice. However, if characters require more than one byte, utf-16, might be a better option. utf-32 might take up too much space for every character to be practical."
   ]
  },
  {
   "cell_type": "markdown",
   "metadata": {},
   "source": [
    "### Strings in Python\n",
    "\n",
    "From the Python docs: \"The default encoding for Python source code is UTF-8, so you can simply include a Unicode character in a string literal\"... see below!"
   ]
  },
  {
   "cell_type": "code",
   "execution_count": 38,
   "metadata": {},
   "outputs": [
    {
     "name": "stdout",
     "output_type": "stream",
     "text": [
      "also a string ☃\n"
     ]
    }
   ],
   "source": [
    "s = \"this is clearly a string\"\n",
    "s2 = \"also a string ☃\"\n",
    "print(s2)"
   ]
  },
  {
   "cell_type": "code",
   "execution_count": 39,
   "metadata": {},
   "outputs": [
    {
     "name": "stdout",
     "output_type": "stream",
     "text": [
      "not sure 🙃\n"
     ]
    }
   ],
   "source": [
    "s3 = \"not sure 🙃\"\n",
    "print(s3)"
   ]
  },
  {
   "cell_type": "markdown",
   "metadata": {},
   "source": [
    "### bytes Objects\n",
    "\n",
    "From Python docs: \"Bytes objects are immutable sequences of single bytes.\" ...\n",
    "\n",
    "* sequence of ints 0 - 255\n",
    "* can be created by using string of ascii characters"
   ]
  },
  {
   "cell_type": "code",
   "execution_count": 40,
   "metadata": {},
   "outputs": [],
   "source": [
    "b = b\"hello\""
   ]
  },
  {
   "cell_type": "code",
   "execution_count": 41,
   "metadata": {},
   "outputs": [
    {
     "data": {
      "text/plain": [
       "104"
      ]
     },
     "execution_count": 41,
     "metadata": {},
     "output_type": "execute_result"
    }
   ],
   "source": [
    "b[0]"
   ]
  },
  {
   "cell_type": "code",
   "execution_count": 42,
   "metadata": {},
   "outputs": [
    {
     "data": {
      "text/plain": [
       "104"
      ]
     },
     "execution_count": 42,
     "metadata": {},
     "output_type": "execute_result"
    }
   ],
   "source": [
    "ord('h')"
   ]
  },
  {
   "cell_type": "code",
   "execution_count": 43,
   "metadata": {},
   "outputs": [
    {
     "name": "stdout",
     "output_type": "stream",
     "text": [
      "<class 'TypeError'> can't concat str to bytes\n"
     ]
    }
   ],
   "source": [
    "try:\n",
    "    b + '!!!!!'\n",
    "except TypeError as e:\n",
    "    print(type(e), e)"
   ]
  },
  {
   "cell_type": "code",
   "execution_count": 44,
   "metadata": {},
   "outputs": [
    {
     "data": {
      "text/plain": [
       "bytes"
      ]
     },
     "execution_count": 44,
     "metadata": {},
     "output_type": "execute_result"
    }
   ],
   "source": [
    "type(b)"
   ]
  },
  {
   "cell_type": "markdown",
   "metadata": {},
   "source": [
    "### Use `decode` Method to Conver to a String\n",
    "\n",
    "* interpret a series of bytes as utf-8"
   ]
  },
  {
   "cell_type": "code",
   "execution_count": 45,
   "metadata": {},
   "outputs": [
    {
     "data": {
      "text/plain": [
       "'hello'"
      ]
     },
     "execution_count": 45,
     "metadata": {},
     "output_type": "execute_result"
    }
   ],
   "source": [
    "b.decode('utf-8')"
   ]
  },
  {
   "cell_type": "markdown",
   "metadata": {},
   "source": [
    "### Now Let's Try utf-16"
   ]
  },
  {
   "cell_type": "code",
   "execution_count": 46,
   "metadata": {},
   "outputs": [
    {
     "data": {
      "text/plain": [
       "'hello!'"
      ]
     },
     "execution_count": 46,
     "metadata": {},
     "output_type": "execute_result"
    }
   ],
   "source": [
    "b = b'hello!'\n",
    "b.decode('utf-8')\n",
    "# ... works as you expect!"
   ]
  },
  {
   "cell_type": "code",
   "execution_count": 47,
   "metadata": {},
   "outputs": [
    {
     "data": {
      "text/plain": [
       "'敨汬Ⅿ'"
      ]
     },
     "execution_count": 47,
     "metadata": {},
     "output_type": "execute_result"
    }
   ],
   "source": [
    "b.decode('utf-16')\n",
    "# ... how about same bytes as utf-16"
   ]
  },
  {
   "cell_type": "markdown",
   "metadata": {},
   "source": [
    "# String Formatting\n",
    "\n",
    "## Using the format function"
   ]
  },
  {
   "cell_type": "code",
   "execution_count": 48,
   "metadata": {},
   "outputs": [
    {
     "data": {
      "text/plain": [
       "'Hi, my name is joe, and I have 20 apple pies!'"
      ]
     },
     "execution_count": 48,
     "metadata": {},
     "output_type": "execute_result"
    }
   ],
   "source": [
    "name = 'joe'\n",
    "num = 20\n",
    "food = 'apple pies'\n",
    "\"Hi, my name is {}, and I have {} {}!\".format(name, num, food)"
   ]
  },
  {
   "cell_type": "markdown",
   "metadata": {},
   "source": [
    "### Using `format` with Positions"
   ]
  },
  {
   "cell_type": "code",
   "execution_count": 49,
   "metadata": {},
   "outputs": [
    {
     "data": {
      "text/plain": [
       "'Hi, my name is joe, and I have 20 apple pies!'"
      ]
     },
     "execution_count": 49,
     "metadata": {},
     "output_type": "execute_result"
    }
   ],
   "source": [
    "\"Hi, my name is {2}, and I have {0} {1}!\".format(num, food, name)"
   ]
  },
  {
   "cell_type": "markdown",
   "metadata": {},
   "source": [
    "### Using `format` with Positions and Format Specifier"
   ]
  },
  {
   "cell_type": "code",
   "execution_count": 50,
   "metadata": {},
   "outputs": [
    {
     "data": {
      "text/plain": [
       "'Hi, my name is joe, and I have 20.00 apple pies!'"
      ]
     },
     "execution_count": 50,
     "metadata": {},
     "output_type": "execute_result"
    }
   ],
   "source": [
    "\"Hi, my name is {2:s}, and I have {0:.2f} {1:s}!\".format(num, food, name)"
   ]
  },
  {
   "cell_type": "markdown",
   "metadata": {},
   "source": [
    "### Format String Literals"
   ]
  },
  {
   "cell_type": "code",
   "execution_count": 51,
   "metadata": {},
   "outputs": [
    {
     "data": {
      "text/plain": [
       "'Hi, my name is joe, and I have 20 apple pies!'"
      ]
     },
     "execution_count": 51,
     "metadata": {},
     "output_type": "execute_result"
    }
   ],
   "source": [
    "f\"Hi, my name is {name}, and I have {num} {food}!\""
   ]
  },
  {
   "cell_type": "code",
   "execution_count": 52,
   "metadata": {},
   "outputs": [
    {
     "data": {
      "text/plain": [
       "'Hi, my name is joe, and I have 20.00 apple pies!'"
      ]
     },
     "execution_count": 52,
     "metadata": {},
     "output_type": "execute_result"
    }
   ],
   "source": [
    "f\"Hi, my name is {name}, and I have {num:.2f} {food}!\""
   ]
  },
  {
   "cell_type": "markdown",
   "metadata": {},
   "source": [
    "### Using the % Operator"
   ]
  },
  {
   "cell_type": "code",
   "execution_count": 53,
   "metadata": {},
   "outputs": [
    {
     "name": "stdout",
     "output_type": "stream",
     "text": [
      "20 apple pies\n"
     ]
    }
   ],
   "source": [
    "result = \"%s %s\" % (num, food)\n",
    "print(result)"
   ]
  }
 ],
 "metadata": {
  "kernelspec": {
   "display_name": "Python 3",
   "language": "python",
   "name": "python3"
  },
  "language_info": {
   "codemirror_mode": {
    "name": "ipython",
    "version": 3
   },
   "file_extension": ".py",
   "mimetype": "text/x-python",
   "name": "python",
   "nbconvert_exporter": "python",
   "pygments_lexer": "ipython3",
   "version": "3.7.0"
  }
 },
 "nbformat": 4,
 "nbformat_minor": 2
}
